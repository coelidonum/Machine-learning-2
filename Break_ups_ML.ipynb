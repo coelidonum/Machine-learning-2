{
  "nbformat": 4,
  "nbformat_minor": 0,
  "metadata": {
    "colab": {
      "name": "Break_ups_ML",
      "provenance": [],
      "collapsed_sections": []
    },
    "kernelspec": {
      "name": "python3",
      "display_name": "Python 3"
    },
    "accelerator": "GPU"
  },
  "cells": [
    {
      "cell_type": "code",
      "metadata": {
        "id": "dHngD0VvnxUC",
        "colab_type": "code",
        "outputId": "366a6f2a-133c-4dfa-c917-51b1b6dced4b",
        "colab": {
          "base_uri": "https://localhost:8080/",
          "height": 35
        }
      },
      "source": [
        "from google.colab import drive\n",
        "drive.mount('/content/drive')"
      ],
      "execution_count": 1,
      "outputs": [
        {
          "output_type": "stream",
          "text": [
            "Drive already mounted at /content/drive; to attempt to forcibly remount, call drive.mount(\"/content/drive\", force_remount=True).\n"
          ],
          "name": "stdout"
        }
      ]
    },
    {
      "cell_type": "code",
      "metadata": {
        "id": "KmKWHpOsoa48",
        "colab_type": "code",
        "colab": {}
      },
      "source": [
        "# load libraries\n",
        "import numpy as np \n",
        "import pandas as pd \n",
        "import numpy as np, random, operator, pandas as pd, matplotlib.pyplot as plt\n",
        "from numpy.random import randint\n",
        "from random import random as rnd\n",
        "from random import gauss, randrange\n",
        "import re\n",
        "import scipy.stats as st\n",
        "import pathlib\n",
        "import os\n",
        "import os.path\n",
        "import csv\n",
        "import matplotlib.pyplot as plt\n",
        "import matplotlib.ticker as mticker\n",
        "import os\n",
        "from networkx import *\n",
        "from sklearn import preprocessing\n",
        "import matplotlib\n",
        "from sklearn import model_selection\n",
        "\n",
        "from sklearn.datasets import make_classification\n",
        "from matplotlib import pyplot as plt\n",
        "from sklearn.linear_model import LogisticRegression\n",
        "import seaborn as sns\n",
        "sns.set()\n",
        "from sklearn.model_selection import train_test_split\n",
        "from sklearn.metrics import confusion_matrix\n",
        "import pandas as pd\n",
        "import statsmodels"
      ],
      "execution_count": 0,
      "outputs": []
    },
    {
      "cell_type": "code",
      "metadata": {
        "id": "-D-NRd7QocFq",
        "colab_type": "code",
        "colab": {}
      },
      "source": [
        "df = pd.read_excel(\"/content/drive/My Drive/nuovo.xlsx\")"
      ],
      "execution_count": 0,
      "outputs": []
    },
    {
      "cell_type": "code",
      "metadata": {
        "id": "3TnutEZrzI0h",
        "colab_type": "code",
        "outputId": "e6e7f330-1721-422f-b7f4-915a4317c6a2",
        "colab": {
          "base_uri": "https://localhost:8080/",
          "height": 200
        }
      },
      "source": [
        "df['Age'].replace(\"30-49\", 1, inplace=True)\n",
        "df['Age'].replace(\"50+\", 1, inplace=True)\n",
        "df['Age'].replace(\"18-29\", 0, inplace=True)\n",
        "df.drop(axis=1, columns=\"index\", inplace=True)\n",
        "df.head()\n"
      ],
      "execution_count": 4,
      "outputs": [
        {
          "output_type": "execute_result",
          "data": {
            "text/html": [
              "<div>\n",
              "<style scoped>\n",
              "    .dataframe tbody tr th:only-of-type {\n",
              "        vertical-align: middle;\n",
              "    }\n",
              "\n",
              "    .dataframe tbody tr th {\n",
              "        vertical-align: top;\n",
              "    }\n",
              "\n",
              "    .dataframe thead th {\n",
              "        text-align: right;\n",
              "    }\n",
              "</style>\n",
              "<table border=\"1\" class=\"dataframe\">\n",
              "  <thead>\n",
              "    <tr style=\"text-align: right;\">\n",
              "      <th></th>\n",
              "      <th>Age</th>\n",
              "      <th>Gender</th>\n",
              "      <th>Education</th>\n",
              "      <th>Abusive</th>\n",
              "      <th>Cheating</th>\n",
              "      <th>Unsupportive</th>\n",
              "      <th>Toxic_people</th>\n",
              "      <th>Lying</th>\n",
              "      <th>Stress</th>\n",
              "      <th>Comeback</th>\n",
              "      <th>more_than_three_years</th>\n",
              "    </tr>\n",
              "  </thead>\n",
              "  <tbody>\n",
              "    <tr>\n",
              "      <th>0</th>\n",
              "      <td>1</td>\n",
              "      <td>0</td>\n",
              "      <td>1</td>\n",
              "      <td>0</td>\n",
              "      <td>0</td>\n",
              "      <td>0</td>\n",
              "      <td>0</td>\n",
              "      <td>1</td>\n",
              "      <td>0</td>\n",
              "      <td>1</td>\n",
              "      <td>0</td>\n",
              "    </tr>\n",
              "    <tr>\n",
              "      <th>1</th>\n",
              "      <td>1</td>\n",
              "      <td>1</td>\n",
              "      <td>1</td>\n",
              "      <td>1</td>\n",
              "      <td>0</td>\n",
              "      <td>0</td>\n",
              "      <td>0</td>\n",
              "      <td>0</td>\n",
              "      <td>0</td>\n",
              "      <td>1</td>\n",
              "      <td>0</td>\n",
              "    </tr>\n",
              "    <tr>\n",
              "      <th>2</th>\n",
              "      <td>1</td>\n",
              "      <td>0</td>\n",
              "      <td>1</td>\n",
              "      <td>0</td>\n",
              "      <td>0</td>\n",
              "      <td>1</td>\n",
              "      <td>0</td>\n",
              "      <td>0</td>\n",
              "      <td>0</td>\n",
              "      <td>0</td>\n",
              "      <td>0</td>\n",
              "    </tr>\n",
              "    <tr>\n",
              "      <th>3</th>\n",
              "      <td>1</td>\n",
              "      <td>0</td>\n",
              "      <td>1</td>\n",
              "      <td>0</td>\n",
              "      <td>0</td>\n",
              "      <td>1</td>\n",
              "      <td>0</td>\n",
              "      <td>0</td>\n",
              "      <td>0</td>\n",
              "      <td>0</td>\n",
              "      <td>0</td>\n",
              "    </tr>\n",
              "    <tr>\n",
              "      <th>4</th>\n",
              "      <td>1</td>\n",
              "      <td>1</td>\n",
              "      <td>1</td>\n",
              "      <td>0</td>\n",
              "      <td>0</td>\n",
              "      <td>1</td>\n",
              "      <td>0</td>\n",
              "      <td>0</td>\n",
              "      <td>0</td>\n",
              "      <td>0</td>\n",
              "      <td>1</td>\n",
              "    </tr>\n",
              "  </tbody>\n",
              "</table>\n",
              "</div>"
            ],
            "text/plain": [
              "   Age  Gender  Education  ...  Stress  Comeback  more_than_three_years\n",
              "0    1       0          1  ...       0         1                      0\n",
              "1    1       1          1  ...       0         1                      0\n",
              "2    1       0          1  ...       0         0                      0\n",
              "3    1       0          1  ...       0         0                      0\n",
              "4    1       1          1  ...       0         0                      1\n",
              "\n",
              "[5 rows x 11 columns]"
            ]
          },
          "metadata": {
            "tags": []
          },
          "execution_count": 4
        }
      ]
    },
    {
      "cell_type": "code",
      "metadata": {
        "id": "p4mNZ_4Dj7NT",
        "colab_type": "code",
        "colab": {}
      },
      "source": [
        "Y = df[\"Comeback\"].tolist()\n"
      ],
      "execution_count": 0,
      "outputs": []
    },
    {
      "cell_type": "code",
      "metadata": {
        "id": "Gq5lnPdtj8hn",
        "colab_type": "code",
        "colab": {}
      },
      "source": [
        "df.drop(axis=1, columns=\"Comeback\", inplace=True)\n",
        "df.drop(axis=1, columns=\"Gender\", inplace=True)\n",
        "df.drop(axis=1, columns=\"Toxic_people\", inplace=True)\n"
      ],
      "execution_count": 0,
      "outputs": []
    },
    {
      "cell_type": "code",
      "metadata": {
        "id": "kMmZj0s7oKOr",
        "colab_type": "code",
        "colab": {}
      },
      "source": [
        "x_train, x_test, y_train, y_true = model_selection.train_test_split(df,Y,test_size = 0.33, stratify=df[['Age', \"more_than_three_years\"]] , random_state=1)"
      ],
      "execution_count": 0,
      "outputs": []
    },
    {
      "cell_type": "markdown",
      "metadata": {
        "id": "wmZyKCaVbkh8",
        "colab_type": "text"
      },
      "source": [
        "We instantiate an instance of the LogisticRegression class and call the fit function with the features and the labels (since Logistic Regression is a supervised machine learning algorithm) as arguments."
      ]
    },
    {
      "cell_type": "code",
      "metadata": {
        "id": "PlQqmLSNlVTO",
        "colab_type": "code",
        "colab": {}
      },
      "source": [
        "#from sklearn.preprocessing import StandardScaler\n",
        "#sc = StandardScaler()\n",
        "#sc.fit(x_train)\n",
        "#x_train_std = sc.transform(x_train)\n",
        "#x_test_std = sc.transform(x_test)"
      ],
      "execution_count": 0,
      "outputs": []
    },
    {
      "cell_type": "code",
      "metadata": {
        "id": "X9spPr0vboIX",
        "colab_type": "code",
        "outputId": "7ee98f10-7a82-4c87-fbdf-f61bbbd7182f",
        "colab": {
          "base_uri": "https://localhost:8080/",
          "height": 106
        }
      },
      "source": [
        "from sklearn.linear_model import LogisticRegressionCV\n",
        "\n",
        "lr = LogisticRegressionCV(cv=100, random_state=1)\n",
        "#>>> clf = LogisticRegressionCV(cv=5, random_state=0).fit(X, y)\n",
        "\n",
        "lr.fit(x_train, y_train)"
      ],
      "execution_count": 9,
      "outputs": [
        {
          "output_type": "execute_result",
          "data": {
            "text/plain": [
              "LogisticRegressionCV(Cs=10, class_weight=None, cv=100, dual=False,\n",
              "                     fit_intercept=True, intercept_scaling=1.0, l1_ratios=None,\n",
              "                     max_iter=100, multi_class='auto', n_jobs=None,\n",
              "                     penalty='l2', random_state=1, refit=True, scoring=None,\n",
              "                     solver='lbfgs', tol=0.0001, verbose=0)"
            ]
          },
          "metadata": {
            "tags": []
          },
          "execution_count": 9
        }
      ]
    },
    {
      "cell_type": "code",
      "metadata": {
        "id": "6w6CbppEoSPr",
        "colab_type": "code",
        "outputId": "34ae3bfb-a250-4d03-95ec-b0586ab1ee2d",
        "colab": {
          "base_uri": "https://localhost:8080/",
          "height": 109
        }
      },
      "source": [
        "df.head(2)"
      ],
      "execution_count": 10,
      "outputs": [
        {
          "output_type": "execute_result",
          "data": {
            "text/html": [
              "<div>\n",
              "<style scoped>\n",
              "    .dataframe tbody tr th:only-of-type {\n",
              "        vertical-align: middle;\n",
              "    }\n",
              "\n",
              "    .dataframe tbody tr th {\n",
              "        vertical-align: top;\n",
              "    }\n",
              "\n",
              "    .dataframe thead th {\n",
              "        text-align: right;\n",
              "    }\n",
              "</style>\n",
              "<table border=\"1\" class=\"dataframe\">\n",
              "  <thead>\n",
              "    <tr style=\"text-align: right;\">\n",
              "      <th></th>\n",
              "      <th>Age</th>\n",
              "      <th>Education</th>\n",
              "      <th>Abusive</th>\n",
              "      <th>Cheating</th>\n",
              "      <th>Unsupportive</th>\n",
              "      <th>Lying</th>\n",
              "      <th>Stress</th>\n",
              "      <th>more_than_three_years</th>\n",
              "    </tr>\n",
              "  </thead>\n",
              "  <tbody>\n",
              "    <tr>\n",
              "      <th>0</th>\n",
              "      <td>1</td>\n",
              "      <td>1</td>\n",
              "      <td>0</td>\n",
              "      <td>0</td>\n",
              "      <td>0</td>\n",
              "      <td>1</td>\n",
              "      <td>0</td>\n",
              "      <td>0</td>\n",
              "    </tr>\n",
              "    <tr>\n",
              "      <th>1</th>\n",
              "      <td>1</td>\n",
              "      <td>1</td>\n",
              "      <td>1</td>\n",
              "      <td>0</td>\n",
              "      <td>0</td>\n",
              "      <td>0</td>\n",
              "      <td>0</td>\n",
              "      <td>0</td>\n",
              "    </tr>\n",
              "  </tbody>\n",
              "</table>\n",
              "</div>"
            ],
            "text/plain": [
              "   Age  Education  Abusive  ...  Lying  Stress  more_than_three_years\n",
              "0    1          1        0  ...      1       0                      0\n",
              "1    1          1        1  ...      0       0                      0\n",
              "\n",
              "[2 rows x 8 columns]"
            ]
          },
          "metadata": {
            "tags": []
          },
          "execution_count": 10
        }
      ]
    },
    {
      "cell_type": "code",
      "metadata": {
        "id": "4S4dnHKoeGu2",
        "colab_type": "code",
        "outputId": "4ee0f51b-7a39-4d68-e48c-b9453f51542e",
        "colab": {
          "base_uri": "https://localhost:8080/",
          "height": 52
        }
      },
      "source": [
        "print(lr.coef_)\n"
      ],
      "execution_count": 11,
      "outputs": [
        {
          "output_type": "stream",
          "text": [
            "[[-0.87450446  0.01926619  0.49028283 -0.25022964 -0.4148557  -0.15066223\n",
            "   0.43388675  0.4788892 ]]\n"
          ],
          "name": "stdout"
        }
      ]
    },
    {
      "cell_type": "code",
      "metadata": {
        "id": "CYWXfhC6eI_j",
        "colab_type": "code",
        "outputId": "b6f757f0-b841-4cb0-9b63-871022ae8faf",
        "colab": {
          "base_uri": "https://localhost:8080/",
          "height": 35
        }
      },
      "source": [
        "print(lr.intercept_)"
      ],
      "execution_count": 12,
      "outputs": [
        {
          "output_type": "stream",
          "text": [
            "[0.00713707]\n"
          ],
          "name": "stdout"
        }
      ]
    },
    {
      "cell_type": "markdown",
      "metadata": {
        "id": "WdR516ahg1gM",
        "colab_type": "text"
      },
      "source": [
        "Let’s see how the model performs against data that it hasn’t been trained on."
      ]
    },
    {
      "cell_type": "code",
      "metadata": {
        "id": "EMgdDdKwg2UL",
        "colab_type": "code",
        "outputId": "eaf00b15-13ee-46f7-e24a-58788280620a",
        "colab": {
          "base_uri": "https://localhost:8080/",
          "height": 35
        }
      },
      "source": [
        "y_pred = lr.predict(x_test)\n",
        "lr.classes_\n"
      ],
      "execution_count": 13,
      "outputs": [
        {
          "output_type": "execute_result",
          "data": {
            "text/plain": [
              "array([0, 1])"
            ]
          },
          "metadata": {
            "tags": []
          },
          "execution_count": 13
        }
      ]
    },
    {
      "cell_type": "markdown",
      "metadata": {
        "id": "LVXKgnJYINma",
        "colab_type": "text"
      },
      "source": [
        "**Confusion matrix**"
      ]
    },
    {
      "cell_type": "code",
      "metadata": {
        "id": "Pw8q-4PxH5H3",
        "colab_type": "code",
        "outputId": "5208654f-f406-49a1-fc63-8b6c14d6ca65",
        "colab": {
          "base_uri": "https://localhost:8080/",
          "height": 52
        }
      },
      "source": [
        "conf = confusion_matrix(y_true, y_pred)\n",
        "conf\n"
      ],
      "execution_count": 14,
      "outputs": [
        {
          "output_type": "execute_result",
          "data": {
            "text/plain": [
              "array([[94, 24],\n",
              "       [33, 32]])"
            ]
          },
          "metadata": {
            "tags": []
          },
          "execution_count": 14
        }
      ]
    },
    {
      "cell_type": "markdown",
      "metadata": {
        "id": "QGxrTJelqyB6",
        "colab_type": "text"
      },
      "source": [
        "**Precision and recall**"
      ]
    },
    {
      "cell_type": "code",
      "metadata": {
        "id": "mcsW06-VJopM",
        "colab_type": "code",
        "outputId": "c9d4974e-7e6d-4a32-a36b-9e25e668a355",
        "colab": {
          "base_uri": "https://localhost:8080/",
          "height": 52
        }
      },
      "source": [
        "print(\"Precision: \")\n",
        "conf[0, 0] / (conf[1,0]+conf[0,0])"
      ],
      "execution_count": 15,
      "outputs": [
        {
          "output_type": "stream",
          "text": [
            "Precision: \n"
          ],
          "name": "stdout"
        },
        {
          "output_type": "execute_result",
          "data": {
            "text/plain": [
              "0.7401574803149606"
            ]
          },
          "metadata": {
            "tags": []
          },
          "execution_count": 15
        }
      ]
    },
    {
      "cell_type": "code",
      "metadata": {
        "id": "sRe7wQgCR6_k",
        "colab_type": "code",
        "outputId": "7c47f883-ba94-4b5f-d750-ca282553a2d9",
        "colab": {
          "base_uri": "https://localhost:8080/",
          "height": 52
        }
      },
      "source": [
        "print(\"Recall: \")\n",
        "conf[0, 0] / (conf[0,0]+conf[0,1])"
      ],
      "execution_count": 16,
      "outputs": [
        {
          "output_type": "stream",
          "text": [
            "Recall: \n"
          ],
          "name": "stdout"
        },
        {
          "output_type": "execute_result",
          "data": {
            "text/plain": [
              "0.7966101694915254"
            ]
          },
          "metadata": {
            "tags": []
          },
          "execution_count": 16
        }
      ]
    },
    {
      "cell_type": "code",
      "metadata": {
        "id": "Xw7J_U1KhACw",
        "colab_type": "code",
        "outputId": "9aff3c9d-161b-4c5d-ab01-1e46d23fa681",
        "colab": {
          "base_uri": "https://localhost:8080/",
          "height": 70
        }
      },
      "source": [
        "\n",
        "cmtx = pd.DataFrame(\n",
        "    confusion_matrix(y_true, y_pred, labels=[0, 1]), \n",
        "    index=['true:yes', 'true:no'], \n",
        "    columns=['pred:yes', 'pred:no']\n",
        ")\n",
        "print(cmtx)"
      ],
      "execution_count": 17,
      "outputs": [
        {
          "output_type": "stream",
          "text": [
            "          pred:yes  pred:no\n",
            "true:yes        94       24\n",
            "true:no         33       32\n"
          ],
          "name": "stdout"
        }
      ]
    },
    {
      "cell_type": "code",
      "metadata": {
        "id": "8xSLMiNMvEfu",
        "colab_type": "code",
        "colab": {}
      },
      "source": [
        "x_test.to_csv('x_test.csv')\n",
        "from google.colab import files\n",
        "files.download('x_test.csv') "
      ],
      "execution_count": 0,
      "outputs": []
    },
    {
      "cell_type": "markdown",
      "metadata": {
        "id": "7fDuSVgrpY9A",
        "colab_type": "text"
      },
      "source": [
        "If for whatever reason we’d like to check the actual probability that a data point belongs to a given class, we can use the predict_proba function. The first column corresponds to the probability that the sample belongs to the first class and the second column corresponds to the probability that the sample belongs to the second class."
      ]
    },
    {
      "cell_type": "code",
      "metadata": {
        "id": "Q-oher138sxg",
        "colab_type": "code",
        "colab": {}
      },
      "source": [
        "lr_array = lr.predict_proba(x_test)\n"
      ],
      "execution_count": 0,
      "outputs": []
    },
    {
      "cell_type": "markdown",
      "metadata": {
        "id": "g_kg1r7RprUl",
        "colab_type": "text"
      },
      "source": [
        "print the class order\n"
      ]
    },
    {
      "cell_type": "code",
      "metadata": {
        "id": "GTs3m0dOpwKL",
        "colab_type": "code",
        "colab": {
          "base_uri": "https://localhost:8080/",
          "height": 35
        },
        "outputId": "2c2703cb-16a7-4a08-bf1c-c44845b0ece2"
      },
      "source": [
        "lr.classes_\n"
      ],
      "execution_count": 20,
      "outputs": [
        {
          "output_type": "execute_result",
          "data": {
            "text/plain": [
              "array([0, 1])"
            ]
          },
          "metadata": {
            "tags": []
          },
          "execution_count": 20
        }
      ]
    },
    {
      "cell_type": "code",
      "metadata": {
        "id": "DIsHt9iZq88K",
        "colab_type": "code",
        "colab": {}
      },
      "source": [
        ""
      ],
      "execution_count": 0,
      "outputs": []
    },
    {
      "cell_type": "markdown",
      "metadata": {
        "id": "WZ7Bdws2q_xD",
        "colab_type": "text"
      },
      "source": [
        "Print some specific cases and, then, the probability of theri classes"
      ]
    },
    {
      "cell_type": "code",
      "metadata": {
        "id": "UBjVY_RvpXOU",
        "colab_type": "code",
        "outputId": "8805e33f-cf26-419b-acde-3cc949e58200",
        "colab": {
          "base_uri": "https://localhost:8080/",
          "height": 177
        }
      },
      "source": [
        "#x_test.reset_index(drop=True, inplace=True)\n",
        "x_test.iloc[79]\n",
        "\n",
        "\n"
      ],
      "execution_count": 21,
      "outputs": [
        {
          "output_type": "execute_result",
          "data": {
            "text/plain": [
              "Age                      0\n",
              "Education                1\n",
              "Abusive                  0\n",
              "Cheating                 0\n",
              "Unsupportive             0\n",
              "Lying                    0\n",
              "Stress                   1\n",
              "more_than_three_years    1\n",
              "Name: 87, dtype: int64"
            ]
          },
          "metadata": {
            "tags": []
          },
          "execution_count": 21
        }
      ]
    },
    {
      "cell_type": "code",
      "metadata": {
        "id": "Ri97NFgJ3Aoh",
        "colab_type": "code",
        "outputId": "9f1cac2a-7b94-41b0-d1b7-01169fb5cdbe",
        "colab": {
          "base_uri": "https://localhost:8080/",
          "height": 35
        }
      },
      "source": [
        "lr_array[79]\n"
      ],
      "execution_count": 22,
      "outputs": [
        {
          "output_type": "execute_result",
          "data": {
            "text/plain": [
              "array([0.28106617, 0.71893383])"
            ]
          },
          "metadata": {
            "tags": []
          },
          "execution_count": 22
        }
      ]
    },
    {
      "cell_type": "code",
      "metadata": {
        "id": "THjRxvE4klmT",
        "colab_type": "code",
        "outputId": "27a1b22b-9cb2-4b06-fb52-45715c206d5b",
        "colab": {
          "base_uri": "https://localhost:8080/",
          "height": 177
        }
      },
      "source": [
        "x_test.iloc[89]"
      ],
      "execution_count": 23,
      "outputs": [
        {
          "output_type": "execute_result",
          "data": {
            "text/plain": [
              "Age                      0\n",
              "Education                1\n",
              "Abusive                  0\n",
              "Cheating                 0\n",
              "Unsupportive             1\n",
              "Lying                    0\n",
              "Stress                   1\n",
              "more_than_three_years    1\n",
              "Name: 58, dtype: int64"
            ]
          },
          "metadata": {
            "tags": []
          },
          "execution_count": 23
        }
      ]
    },
    {
      "cell_type": "code",
      "metadata": {
        "id": "oHKK9Ks7kpVl",
        "colab_type": "code",
        "outputId": "74387e27-8ab7-4c4b-c461-4fa0bd015634",
        "colab": {
          "base_uri": "https://localhost:8080/",
          "height": 35
        }
      },
      "source": [
        "lr_array[89]\n"
      ],
      "execution_count": 24,
      "outputs": [
        {
          "output_type": "execute_result",
          "data": {
            "text/plain": [
              "array([0.37184181, 0.62815819])"
            ]
          },
          "metadata": {
            "tags": []
          },
          "execution_count": 24
        }
      ]
    }
  ]
}